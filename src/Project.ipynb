{
 "cells": [
  {
   "cell_type": "code",
   "execution_count": 1,
   "metadata": {},
   "outputs": [
    {
     "name": "stdout",
     "output_type": "stream",
     "text": [
      "Connected to mongodb in -> None\n"
     ]
    }
   ],
   "source": [
    "from bson import ObjectId\n",
    "import folium\n",
    "import numpy as np\n",
    "from bson import json_util\n",
    "import json\n",
    "import googlemaps\n",
    "import pandas as pd\n",
    "# Librerías propias\n",
    "import config\n",
    "import location\n",
    "import mongodb\n",
    "import bbdd"
   ]
  },
  {
   "cell_type": "code",
   "execution_count": 2,
   "metadata": {},
   "outputs": [
    {
     "data": {
      "text/plain": [
       "MongoClient(host=['localhost:27017'], document_class=dict, tz_aware=False, connect=True)"
      ]
     },
     "execution_count": 2,
     "metadata": {},
     "output_type": "execute_result"
    }
   ],
   "source": [
    "mongodb.getClient()"
   ]
  },
  {
   "cell_type": "code",
   "execution_count": 88,
   "metadata": {},
   "outputs": [],
   "source": [
    "db, coll = mongodb.getCollection('companies','crunch')"
   ]
  },
  {
   "cell_type": "code",
   "execution_count": 89,
   "metadata": {},
   "outputs": [],
   "source": [
    "companies = list(coll.find({}))"
   ]
  },
  {
   "cell_type": "markdown",
   "metadata": {},
   "source": [
    "# LOCATION FIELD\n",
    "\n",
    "Create geolocation field for all offices in original collection "
   ]
  },
  {
   "cell_type": "code",
   "execution_count": 8,
   "metadata": {},
   "outputs": [],
   "source": [
    "for company in companies:\n",
    "    if len(company['offices']) >= 1:\n",
    "        for j in range(len(company['offices'])):\n",
    "            office = company['offices'][j]\n",
    "            if office['latitude'] is not None and office['longitude'] is not None:\n",
    "                filtro = {'_id':ObjectId(company['_id'])}\n",
    "                field = 'offices.'+str(j)+'.location'\n",
    "                value = {'$set':{field:location.getLocationfor(office)}}\n",
    "                coll.update_many(filtro, value)   "
   ]
  },
  {
   "cell_type": "markdown",
   "metadata": {},
   "source": [
    "## Unwinding documents\n",
    "- Get rid of all companies with no offices and all offices with no address"
   ]
  },
  {
   "cell_type": "code",
   "execution_count": 9,
   "metadata": {},
   "outputs": [],
   "source": [
    "pipeline = [\n",
    "    {\n",
    "        '$project': {\n",
    "            'name': 1, \n",
    "            'description': 1, \n",
    "            'founded_year': 1, \n",
    "            'deadpooled_year': 1, \n",
    "            'total_money_raised': 1, \n",
    "            'offices': 1\n",
    "        }\n",
    "    }, {\n",
    "        '$unwind': {\n",
    "            'path': '$offices', \n",
    "            'preserveNullAndEmptyArrays': True\n",
    "        }\n",
    "    }, {\n",
    "        '$match': {\n",
    "            'offices.latitude': {\n",
    "                '$exists': True\n",
    "            }, \n",
    "            'offices.address1': {\n",
    "                '$ne': ''\n",
    "            }\n",
    "        }\n",
    "    }\n",
    "]"
   ]
  },
  {
   "cell_type": "code",
   "execution_count": 10,
   "metadata": {},
   "outputs": [],
   "source": [
    "offices = list(coll.aggregate(pipeline))"
   ]
  },
  {
   "cell_type": "markdown",
   "metadata": {},
   "source": [
    "# CITY CHOICE"
   ]
  },
  {
   "cell_type": "code",
   "execution_count": 13,
   "metadata": {},
   "outputs": [],
   "source": [
    "data = pd.DataFrame(offices)"
   ]
  },
  {
   "cell_type": "code",
   "execution_count": 14,
   "metadata": {},
   "outputs": [
    {
     "name": "stdout",
     "output_type": "stream",
     "text": [
      "(14528, 7)\n"
     ]
    },
    {
     "data": {
      "text/html": [
       "<div>\n",
       "<style scoped>\n",
       "    .dataframe tbody tr th:only-of-type {\n",
       "        vertical-align: middle;\n",
       "    }\n",
       "\n",
       "    .dataframe tbody tr th {\n",
       "        vertical-align: top;\n",
       "    }\n",
       "\n",
       "    .dataframe thead th {\n",
       "        text-align: right;\n",
       "    }\n",
       "</style>\n",
       "<table border=\"1\" class=\"dataframe\">\n",
       "  <thead>\n",
       "    <tr style=\"text-align: right;\">\n",
       "      <th></th>\n",
       "      <th>_id</th>\n",
       "      <th>name</th>\n",
       "      <th>founded_year</th>\n",
       "      <th>deadpooled_year</th>\n",
       "      <th>description</th>\n",
       "      <th>total_money_raised</th>\n",
       "      <th>offices</th>\n",
       "    </tr>\n",
       "  </thead>\n",
       "  <tbody>\n",
       "    <tr>\n",
       "      <th>0</th>\n",
       "      <td>52cdef7c4bab8bd675297d8b</td>\n",
       "      <td>AdventNet</td>\n",
       "      <td>1996.0</td>\n",
       "      <td>2.0</td>\n",
       "      <td>Server Management Software</td>\n",
       "      <td>$0</td>\n",
       "      <td>{'description': 'Headquarters', 'address1': '4...</td>\n",
       "    </tr>\n",
       "    <tr>\n",
       "      <th>1</th>\n",
       "      <td>52cdef7c4bab8bd675297d90</td>\n",
       "      <td>Postini</td>\n",
       "      <td>1999.0</td>\n",
       "      <td>NaN</td>\n",
       "      <td>None</td>\n",
       "      <td>$0</td>\n",
       "      <td>{'description': None, 'address1': '959 Skyway ...</td>\n",
       "    </tr>\n",
       "  </tbody>\n",
       "</table>\n",
       "</div>"
      ],
      "text/plain": [
       "                        _id       name  founded_year  deadpooled_year  \\\n",
       "0  52cdef7c4bab8bd675297d8b  AdventNet        1996.0              2.0   \n",
       "1  52cdef7c4bab8bd675297d90    Postini        1999.0              NaN   \n",
       "\n",
       "                  description total_money_raised  \\\n",
       "0  Server Management Software                 $0   \n",
       "1                        None                 $0   \n",
       "\n",
       "                                             offices  \n",
       "0  {'description': 'Headquarters', 'address1': '4...  \n",
       "1  {'description': None, 'address1': '959 Skyway ...  "
      ]
     },
     "execution_count": 14,
     "metadata": {},
     "output_type": "execute_result"
    }
   ],
   "source": [
    "print(data.shape)\n",
    "data.head(2)"
   ]
  },
  {
   "cell_type": "code",
   "execution_count": 15,
   "metadata": {},
   "outputs": [],
   "source": [
    "data.rename(columns={'description':'category'}, \n",
    "                 inplace=True)"
   ]
  },
  {
   "cell_type": "code",
   "execution_count": 16,
   "metadata": {},
   "outputs": [],
   "source": [
    "df = pd.concat([data, data.offices.apply(pd.Series)], axis = 1)"
   ]
  },
  {
   "cell_type": "code",
   "execution_count": 17,
   "metadata": {
    "scrolled": true
   },
   "outputs": [
    {
     "data": {
      "text/html": [
       "<div>\n",
       "<style scoped>\n",
       "    .dataframe tbody tr th:only-of-type {\n",
       "        vertical-align: middle;\n",
       "    }\n",
       "\n",
       "    .dataframe tbody tr th {\n",
       "        vertical-align: top;\n",
       "    }\n",
       "\n",
       "    .dataframe thead th {\n",
       "        text-align: right;\n",
       "    }\n",
       "</style>\n",
       "<table border=\"1\" class=\"dataframe\">\n",
       "  <thead>\n",
       "    <tr style=\"text-align: right;\">\n",
       "      <th></th>\n",
       "      <th>_id</th>\n",
       "      <th>name</th>\n",
       "      <th>founded_year</th>\n",
       "      <th>deadpooled_year</th>\n",
       "      <th>category</th>\n",
       "      <th>total_money_raised</th>\n",
       "      <th>offices</th>\n",
       "      <th>description</th>\n",
       "      <th>address1</th>\n",
       "      <th>address2</th>\n",
       "      <th>zip_code</th>\n",
       "      <th>city</th>\n",
       "      <th>state_code</th>\n",
       "      <th>country_code</th>\n",
       "      <th>latitude</th>\n",
       "      <th>longitude</th>\n",
       "      <th>location</th>\n",
       "    </tr>\n",
       "  </thead>\n",
       "  <tbody>\n",
       "    <tr>\n",
       "      <th>0</th>\n",
       "      <td>52cdef7c4bab8bd675297d8b</td>\n",
       "      <td>AdventNet</td>\n",
       "      <td>1996.0</td>\n",
       "      <td>2.0</td>\n",
       "      <td>Server Management Software</td>\n",
       "      <td>$0</td>\n",
       "      <td>{'description': 'Headquarters', 'address1': '4...</td>\n",
       "      <td>Headquarters</td>\n",
       "      <td>4900 Hopyard Rd.</td>\n",
       "      <td>Suite 310</td>\n",
       "      <td>94588</td>\n",
       "      <td>Pleasanton</td>\n",
       "      <td>CA</td>\n",
       "      <td>USA</td>\n",
       "      <td>37.692934</td>\n",
       "      <td>-121.904945</td>\n",
       "      <td>{'type': 'Point', 'coordinates': [-121.904945,...</td>\n",
       "    </tr>\n",
       "    <tr>\n",
       "      <th>1</th>\n",
       "      <td>52cdef7c4bab8bd675297d90</td>\n",
       "      <td>Postini</td>\n",
       "      <td>1999.0</td>\n",
       "      <td>NaN</td>\n",
       "      <td>None</td>\n",
       "      <td>$0</td>\n",
       "      <td>{'description': None, 'address1': '959 Skyway ...</td>\n",
       "      <td>None</td>\n",
       "      <td>959 Skyway Road, Suite 200</td>\n",
       "      <td>None</td>\n",
       "      <td>94070</td>\n",
       "      <td>San Carlos</td>\n",
       "      <td>CA</td>\n",
       "      <td>USA</td>\n",
       "      <td>37.506885</td>\n",
       "      <td>-122.247573</td>\n",
       "      <td>{'type': 'Point', 'coordinates': [-122.247573,...</td>\n",
       "    </tr>\n",
       "  </tbody>\n",
       "</table>\n",
       "</div>"
      ],
      "text/plain": [
       "                        _id       name  founded_year  deadpooled_year  \\\n",
       "0  52cdef7c4bab8bd675297d8b  AdventNet        1996.0              2.0   \n",
       "1  52cdef7c4bab8bd675297d90    Postini        1999.0              NaN   \n",
       "\n",
       "                     category total_money_raised  \\\n",
       "0  Server Management Software                 $0   \n",
       "1                        None                 $0   \n",
       "\n",
       "                                             offices   description  \\\n",
       "0  {'description': 'Headquarters', 'address1': '4...  Headquarters   \n",
       "1  {'description': None, 'address1': '959 Skyway ...          None   \n",
       "\n",
       "                     address1   address2 zip_code        city state_code  \\\n",
       "0            4900 Hopyard Rd.  Suite 310    94588  Pleasanton         CA   \n",
       "1  959 Skyway Road, Suite 200       None    94070  San Carlos         CA   \n",
       "\n",
       "  country_code   latitude   longitude  \\\n",
       "0          USA  37.692934 -121.904945   \n",
       "1          USA  37.506885 -122.247573   \n",
       "\n",
       "                                            location  \n",
       "0  {'type': 'Point', 'coordinates': [-121.904945,...  \n",
       "1  {'type': 'Point', 'coordinates': [-122.247573,...  "
      ]
     },
     "execution_count": 17,
     "metadata": {},
     "output_type": "execute_result"
    }
   ],
   "source": [
    "df.head(2)"
   ]
  },
  {
   "cell_type": "code",
   "execution_count": 18,
   "metadata": {},
   "outputs": [],
   "source": [
    "offices = df.drop(columns=[\"offices\",\"location\"])"
   ]
  },
  {
   "cell_type": "code",
   "execution_count": 19,
   "metadata": {},
   "outputs": [
    {
     "data": {
      "text/html": [
       "<div>\n",
       "<style scoped>\n",
       "    .dataframe tbody tr th:only-of-type {\n",
       "        vertical-align: middle;\n",
       "    }\n",
       "\n",
       "    .dataframe tbody tr th {\n",
       "        vertical-align: top;\n",
       "    }\n",
       "\n",
       "    .dataframe thead th {\n",
       "        text-align: right;\n",
       "    }\n",
       "</style>\n",
       "<table border=\"1\" class=\"dataframe\">\n",
       "  <thead>\n",
       "    <tr style=\"text-align: right;\">\n",
       "      <th></th>\n",
       "      <th>_id</th>\n",
       "      <th>name</th>\n",
       "      <th>founded_year</th>\n",
       "      <th>deadpooled_year</th>\n",
       "      <th>category</th>\n",
       "      <th>total_money_raised</th>\n",
       "      <th>description</th>\n",
       "      <th>address1</th>\n",
       "      <th>address2</th>\n",
       "      <th>zip_code</th>\n",
       "      <th>city</th>\n",
       "      <th>state_code</th>\n",
       "      <th>country_code</th>\n",
       "      <th>latitude</th>\n",
       "      <th>longitude</th>\n",
       "    </tr>\n",
       "  </thead>\n",
       "  <tbody>\n",
       "    <tr>\n",
       "      <th>0</th>\n",
       "      <td>52cdef7c4bab8bd675297d8b</td>\n",
       "      <td>AdventNet</td>\n",
       "      <td>1996.0</td>\n",
       "      <td>2.0</td>\n",
       "      <td>Server Management Software</td>\n",
       "      <td>$0</td>\n",
       "      <td>Headquarters</td>\n",
       "      <td>4900 Hopyard Rd.</td>\n",
       "      <td>Suite 310</td>\n",
       "      <td>94588</td>\n",
       "      <td>Pleasanton</td>\n",
       "      <td>CA</td>\n",
       "      <td>USA</td>\n",
       "      <td>37.692934</td>\n",
       "      <td>-121.904945</td>\n",
       "    </tr>\n",
       "    <tr>\n",
       "      <th>1</th>\n",
       "      <td>52cdef7c4bab8bd675297d90</td>\n",
       "      <td>Postini</td>\n",
       "      <td>1999.0</td>\n",
       "      <td>NaN</td>\n",
       "      <td>None</td>\n",
       "      <td>$0</td>\n",
       "      <td>None</td>\n",
       "      <td>959 Skyway Road, Suite 200</td>\n",
       "      <td>None</td>\n",
       "      <td>94070</td>\n",
       "      <td>San Carlos</td>\n",
       "      <td>CA</td>\n",
       "      <td>USA</td>\n",
       "      <td>37.506885</td>\n",
       "      <td>-122.247573</td>\n",
       "    </tr>\n",
       "  </tbody>\n",
       "</table>\n",
       "</div>"
      ],
      "text/plain": [
       "                        _id       name  founded_year  deadpooled_year  \\\n",
       "0  52cdef7c4bab8bd675297d8b  AdventNet        1996.0              2.0   \n",
       "1  52cdef7c4bab8bd675297d90    Postini        1999.0              NaN   \n",
       "\n",
       "                     category total_money_raised   description  \\\n",
       "0  Server Management Software                 $0  Headquarters   \n",
       "1                        None                 $0          None   \n",
       "\n",
       "                     address1   address2 zip_code        city state_code  \\\n",
       "0            4900 Hopyard Rd.  Suite 310    94588  Pleasanton         CA   \n",
       "1  959 Skyway Road, Suite 200       None    94070  San Carlos         CA   \n",
       "\n",
       "  country_code   latitude   longitude  \n",
       "0          USA  37.692934 -121.904945  \n",
       "1          USA  37.506885 -122.247573  "
      ]
     },
     "execution_count": 19,
     "metadata": {},
     "output_type": "execute_result"
    }
   ],
   "source": [
    "offices.head(2)"
   ]
  },
  {
   "cell_type": "markdown",
   "metadata": {},
   "source": [
    "## KPIS\n",
    "\n",
    "Design KPIs that are going to help me choose in which country I wan't to set my company.\n",
    "    - Age: average age of companies by city\n",
    "    - Average money raised\n",
    "    - has raised: Total companies that have raised money by city\n",
    "    - % of companies that have raised money within the area"
   ]
  },
  {
   "cell_type": "code",
   "execution_count": 35,
   "metadata": {},
   "outputs": [],
   "source": [
    "offices['age'] = offices.founded_year.apply(lambda x: (2019 - x))"
   ]
  },
  {
   "cell_type": "code",
   "execution_count": 36,
   "metadata": {},
   "outputs": [],
   "source": [
    "offices.rename(columns={'description':'category',\n",
    "                          'description':'office_desc'}, \n",
    "                 inplace=True)"
   ]
  },
  {
   "cell_type": "code",
   "execution_count": 37,
   "metadata": {},
   "outputs": [
    {
     "data": {
      "text/html": [
       "<div>\n",
       "<style scoped>\n",
       "    .dataframe tbody tr th:only-of-type {\n",
       "        vertical-align: middle;\n",
       "    }\n",
       "\n",
       "    .dataframe tbody tr th {\n",
       "        vertical-align: top;\n",
       "    }\n",
       "\n",
       "    .dataframe thead th {\n",
       "        text-align: right;\n",
       "    }\n",
       "</style>\n",
       "<table border=\"1\" class=\"dataframe\">\n",
       "  <thead>\n",
       "    <tr style=\"text-align: right;\">\n",
       "      <th></th>\n",
       "      <th>_id</th>\n",
       "      <th>name</th>\n",
       "      <th>founded_year</th>\n",
       "      <th>deadpooled_year</th>\n",
       "      <th>category</th>\n",
       "      <th>total_money_raised</th>\n",
       "      <th>office_desc</th>\n",
       "      <th>address1</th>\n",
       "      <th>address2</th>\n",
       "      <th>zip_code</th>\n",
       "      <th>city</th>\n",
       "      <th>state_code</th>\n",
       "      <th>country_code</th>\n",
       "      <th>latitude</th>\n",
       "      <th>longitude</th>\n",
       "      <th>age</th>\n",
       "      <th>has_raised</th>\n",
       "    </tr>\n",
       "  </thead>\n",
       "  <tbody>\n",
       "    <tr>\n",
       "      <th>0</th>\n",
       "      <td>52cdef7c4bab8bd675297d8b</td>\n",
       "      <td>AdventNet</td>\n",
       "      <td>1996.0</td>\n",
       "      <td>2.0</td>\n",
       "      <td>Server Management Software</td>\n",
       "      <td>0</td>\n",
       "      <td>Headquarters</td>\n",
       "      <td>4900 Hopyard Rd.</td>\n",
       "      <td>Suite 310</td>\n",
       "      <td>94588</td>\n",
       "      <td>Pleasanton</td>\n",
       "      <td>CA</td>\n",
       "      <td>USA</td>\n",
       "      <td>37.692934</td>\n",
       "      <td>-121.904945</td>\n",
       "      <td>23.0</td>\n",
       "      <td>0</td>\n",
       "    </tr>\n",
       "    <tr>\n",
       "      <th>1</th>\n",
       "      <td>52cdef7c4bab8bd675297d90</td>\n",
       "      <td>Postini</td>\n",
       "      <td>1999.0</td>\n",
       "      <td>NaN</td>\n",
       "      <td>None</td>\n",
       "      <td>0</td>\n",
       "      <td>None</td>\n",
       "      <td>959 Skyway Road, Suite 200</td>\n",
       "      <td>None</td>\n",
       "      <td>94070</td>\n",
       "      <td>San Carlos</td>\n",
       "      <td>CA</td>\n",
       "      <td>USA</td>\n",
       "      <td>37.506885</td>\n",
       "      <td>-122.247573</td>\n",
       "      <td>20.0</td>\n",
       "      <td>0</td>\n",
       "    </tr>\n",
       "    <tr>\n",
       "      <th>2</th>\n",
       "      <td>52cdef7c4bab8bd675297d8f</td>\n",
       "      <td>Omnidrive</td>\n",
       "      <td>2005.0</td>\n",
       "      <td>2008.0</td>\n",
       "      <td>None</td>\n",
       "      <td>800000</td>\n",
       "      <td></td>\n",
       "      <td>Suite 200</td>\n",
       "      <td>654 High Street</td>\n",
       "      <td>94301</td>\n",
       "      <td>Palo Alto</td>\n",
       "      <td>CA</td>\n",
       "      <td>ISR</td>\n",
       "      <td>NaN</td>\n",
       "      <td>NaN</td>\n",
       "      <td>14.0</td>\n",
       "      <td>1</td>\n",
       "    </tr>\n",
       "    <tr>\n",
       "      <th>3</th>\n",
       "      <td>52cdef7c4bab8bd675297d92</td>\n",
       "      <td>Flektor</td>\n",
       "      <td>NaN</td>\n",
       "      <td>NaN</td>\n",
       "      <td>None</td>\n",
       "      <td>0</td>\n",
       "      <td>None</td>\n",
       "      <td>8536 National Blvd, Suite A</td>\n",
       "      <td>None</td>\n",
       "      <td>90232</td>\n",
       "      <td>Culver City</td>\n",
       "      <td>CA</td>\n",
       "      <td>USA</td>\n",
       "      <td>34.025958</td>\n",
       "      <td>-118.379768</td>\n",
       "      <td>NaN</td>\n",
       "      <td>0</td>\n",
       "    </tr>\n",
       "    <tr>\n",
       "      <th>4</th>\n",
       "      <td>52cdef7c4bab8bd675297d8c</td>\n",
       "      <td>Zoho</td>\n",
       "      <td>2005.0</td>\n",
       "      <td>3.0</td>\n",
       "      <td>Online Business Apps Suite</td>\n",
       "      <td>0</td>\n",
       "      <td>Headquarters</td>\n",
       "      <td>4900 Hopyard Rd</td>\n",
       "      <td>Suite 310</td>\n",
       "      <td>94588</td>\n",
       "      <td>Pleasanton</td>\n",
       "      <td>CA</td>\n",
       "      <td>USA</td>\n",
       "      <td>37.692934</td>\n",
       "      <td>-121.904945</td>\n",
       "      <td>14.0</td>\n",
       "      <td>0</td>\n",
       "    </tr>\n",
       "  </tbody>\n",
       "</table>\n",
       "</div>"
      ],
      "text/plain": [
       "                        _id       name  founded_year  deadpooled_year  \\\n",
       "0  52cdef7c4bab8bd675297d8b  AdventNet        1996.0              2.0   \n",
       "1  52cdef7c4bab8bd675297d90    Postini        1999.0              NaN   \n",
       "2  52cdef7c4bab8bd675297d8f  Omnidrive        2005.0           2008.0   \n",
       "3  52cdef7c4bab8bd675297d92    Flektor           NaN              NaN   \n",
       "4  52cdef7c4bab8bd675297d8c       Zoho        2005.0              3.0   \n",
       "\n",
       "                     category  total_money_raised   office_desc  \\\n",
       "0  Server Management Software                   0  Headquarters   \n",
       "1                        None                   0          None   \n",
       "2                        None              800000                 \n",
       "3                        None                   0          None   \n",
       "4  Online Business Apps Suite                   0  Headquarters   \n",
       "\n",
       "                      address1         address2 zip_code         city  \\\n",
       "0             4900 Hopyard Rd.        Suite 310    94588   Pleasanton   \n",
       "1   959 Skyway Road, Suite 200             None    94070   San Carlos   \n",
       "2                    Suite 200  654 High Street    94301    Palo Alto   \n",
       "3  8536 National Blvd, Suite A             None    90232  Culver City   \n",
       "4              4900 Hopyard Rd        Suite 310    94588   Pleasanton   \n",
       "\n",
       "  state_code country_code   latitude   longitude   age  has_raised  \n",
       "0         CA          USA  37.692934 -121.904945  23.0           0  \n",
       "1         CA          USA  37.506885 -122.247573  20.0           0  \n",
       "2         CA          ISR        NaN         NaN  14.0           1  \n",
       "3         CA          USA  34.025958 -118.379768   NaN           0  \n",
       "4         CA          USA  37.692934 -121.904945  14.0           0  "
      ]
     },
     "execution_count": 37,
     "metadata": {},
     "output_type": "execute_result"
    }
   ],
   "source": [
    "offices.head()"
   ]
  },
  {
   "cell_type": "code",
   "execution_count": null,
   "metadata": {},
   "outputs": [],
   "source": [
    "bbdd.quitaMonedas(offices,'total_money_raised')"
   ]
  },
  {
   "cell_type": "code",
   "execution_count": 39,
   "metadata": {
    "collapsed": true
   },
   "outputs": [
    {
     "ename": "TypeError",
     "evalue": "'int' object is not subscriptable",
     "output_type": "error",
     "traceback": [
      "\u001b[0;31m---------------------------------------------------------------------------\u001b[0m",
      "\u001b[0;31mTypeError\u001b[0m                                 Traceback (most recent call last)",
      "\u001b[0;32m<ipython-input-39-0bdc1b8865de>\u001b[0m in \u001b[0;36m<module>\u001b[0;34m\u001b[0m\n\u001b[0;32m----> 1\u001b[0;31m \u001b[0moffices\u001b[0m\u001b[0;34m[\u001b[0m\u001b[0;34m'Average_money_raised'\u001b[0m\u001b[0;34m]\u001b[0m\u001b[0;34m=\u001b[0m\u001b[0moffices\u001b[0m\u001b[0;34m[\u001b[0m\u001b[0;34m'total_money_raised'\u001b[0m\u001b[0;34m]\u001b[0m\u001b[0;34m.\u001b[0m\u001b[0mapply\u001b[0m\u001b[0;34m(\u001b[0m\u001b[0mbbdd\u001b[0m\u001b[0;34m.\u001b[0m\u001b[0mtext_to_num\u001b[0m\u001b[0;34m)\u001b[0m\u001b[0;34m\u001b[0m\u001b[0;34m\u001b[0m\u001b[0m\n\u001b[0m",
      "\u001b[0;32m~/Library/Python/3.7/lib/python/site-packages/pandas/core/series.py\u001b[0m in \u001b[0;36mapply\u001b[0;34m(self, func, convert_dtype, args, **kwds)\u001b[0m\n\u001b[1;32m   4043\u001b[0m             \u001b[0;32melse\u001b[0m\u001b[0;34m:\u001b[0m\u001b[0;34m\u001b[0m\u001b[0;34m\u001b[0m\u001b[0m\n\u001b[1;32m   4044\u001b[0m                 \u001b[0mvalues\u001b[0m \u001b[0;34m=\u001b[0m \u001b[0mself\u001b[0m\u001b[0;34m.\u001b[0m\u001b[0mastype\u001b[0m\u001b[0;34m(\u001b[0m\u001b[0mobject\u001b[0m\u001b[0;34m)\u001b[0m\u001b[0;34m.\u001b[0m\u001b[0mvalues\u001b[0m\u001b[0;34m\u001b[0m\u001b[0;34m\u001b[0m\u001b[0m\n\u001b[0;32m-> 4045\u001b[0;31m                 \u001b[0mmapped\u001b[0m \u001b[0;34m=\u001b[0m \u001b[0mlib\u001b[0m\u001b[0;34m.\u001b[0m\u001b[0mmap_infer\u001b[0m\u001b[0;34m(\u001b[0m\u001b[0mvalues\u001b[0m\u001b[0;34m,\u001b[0m \u001b[0mf\u001b[0m\u001b[0;34m,\u001b[0m \u001b[0mconvert\u001b[0m\u001b[0;34m=\u001b[0m\u001b[0mconvert_dtype\u001b[0m\u001b[0;34m)\u001b[0m\u001b[0;34m\u001b[0m\u001b[0;34m\u001b[0m\u001b[0m\n\u001b[0m\u001b[1;32m   4046\u001b[0m \u001b[0;34m\u001b[0m\u001b[0m\n\u001b[1;32m   4047\u001b[0m         \u001b[0;32mif\u001b[0m \u001b[0mlen\u001b[0m\u001b[0;34m(\u001b[0m\u001b[0mmapped\u001b[0m\u001b[0;34m)\u001b[0m \u001b[0;32mand\u001b[0m \u001b[0misinstance\u001b[0m\u001b[0;34m(\u001b[0m\u001b[0mmapped\u001b[0m\u001b[0;34m[\u001b[0m\u001b[0;36m0\u001b[0m\u001b[0;34m]\u001b[0m\u001b[0;34m,\u001b[0m \u001b[0mSeries\u001b[0m\u001b[0;34m)\u001b[0m\u001b[0;34m:\u001b[0m\u001b[0;34m\u001b[0m\u001b[0;34m\u001b[0m\u001b[0m\n",
      "\u001b[0;32mpandas/_libs/lib.pyx\u001b[0m in \u001b[0;36mpandas._libs.lib.map_infer\u001b[0;34m()\u001b[0m\n",
      "\u001b[0;32m~/Desktop/Projects/My_Gaming_Company/src/bbdd.py\u001b[0m in \u001b[0;36mtext_to_num\u001b[0;34m(text)\u001b[0m\n\u001b[1;32m      7\u001b[0m         \u001b[0;34m'k'\u001b[0m\u001b[0;34m:\u001b[0m \u001b[0;36m3\u001b[0m\u001b[0;34m\u001b[0m\u001b[0;34m\u001b[0m\u001b[0m\n\u001b[1;32m      8\u001b[0m     }\n\u001b[0;32m----> 9\u001b[0;31m     \u001b[0;32mif\u001b[0m \u001b[0mtext\u001b[0m\u001b[0;34m[\u001b[0m\u001b[0;34m-\u001b[0m\u001b[0;36m1\u001b[0m\u001b[0;34m]\u001b[0m \u001b[0;32min\u001b[0m \u001b[0md\u001b[0m\u001b[0;34m:\u001b[0m\u001b[0;34m\u001b[0m\u001b[0;34m\u001b[0m\u001b[0m\n\u001b[0m\u001b[1;32m     10\u001b[0m         \u001b[0mnum\u001b[0m\u001b[0;34m,\u001b[0m \u001b[0mmagnitude\u001b[0m \u001b[0;34m=\u001b[0m \u001b[0mtext\u001b[0m\u001b[0;34m[\u001b[0m\u001b[0;34m:\u001b[0m\u001b[0;34m-\u001b[0m\u001b[0;36m1\u001b[0m\u001b[0;34m]\u001b[0m\u001b[0;34m,\u001b[0m \u001b[0mtext\u001b[0m\u001b[0;34m[\u001b[0m\u001b[0;34m-\u001b[0m\u001b[0;36m1\u001b[0m\u001b[0;34m]\u001b[0m\u001b[0;34m\u001b[0m\u001b[0;34m\u001b[0m\u001b[0m\n\u001b[1;32m     11\u001b[0m         \u001b[0;32mreturn\u001b[0m \u001b[0mint\u001b[0m\u001b[0;34m(\u001b[0m\u001b[0mDecimal\u001b[0m\u001b[0;34m(\u001b[0m\u001b[0mnum\u001b[0m\u001b[0;34m)\u001b[0m \u001b[0;34m*\u001b[0m \u001b[0;36m10\u001b[0m \u001b[0;34m**\u001b[0m \u001b[0md\u001b[0m\u001b[0;34m[\u001b[0m\u001b[0mmagnitude\u001b[0m\u001b[0;34m]\u001b[0m\u001b[0;34m)\u001b[0m\u001b[0;34m\u001b[0m\u001b[0;34m\u001b[0m\u001b[0m\n",
      "\u001b[0;31mTypeError\u001b[0m: 'int' object is not subscriptable"
     ]
    }
   ],
   "source": [
    "offices['Average_money_raised']=offices['total_money_raised'].apply(bbdd.text_to_num)"
   ]
  },
  {
   "cell_type": "code",
   "execution_count": 25,
   "metadata": {},
   "outputs": [
    {
     "data": {
      "text/plain": [
       "0             0\n",
       "1             0\n",
       "2        800000\n",
       "3             0\n",
       "4             0\n",
       "          ...  \n",
       "14523         0\n",
       "14524         0\n",
       "14525         0\n",
       "14526         0\n",
       "14527         0\n",
       "Name: total_money_raised, Length: 14528, dtype: int64"
      ]
     },
     "execution_count": 25,
     "metadata": {},
     "output_type": "execute_result"
    }
   ],
   "source": [
    "offices['total_money_raised']"
   ]
  },
  {
   "cell_type": "code",
   "execution_count": 26,
   "metadata": {},
   "outputs": [],
   "source": [
    "offices['has_raised']=np.where(offices.total_money_raised>0,1,0)"
   ]
  },
  {
   "cell_type": "code",
   "execution_count": 40,
   "metadata": {},
   "outputs": [],
   "source": [
    "co = offices[['country_code','city']].groupby(['city']).count()\n",
    "avg_age = offices[['city','age']].groupby(['city']).agg({'age':'mean'})\n",
    "avg_money_raised = offices[['city','total_money_raised']].groupby(['city']).agg({'total_money_raised':'mean'})\n",
    "total_has_raised = offices[['city','has_raised']].groupby(['city']).agg({'has_raised':'sum'})"
   ]
  },
  {
   "cell_type": "code",
   "execution_count": 41,
   "metadata": {},
   "outputs": [],
   "source": [
    "final = pd.concat([co, avg_age,total_has_raised, avg_money_raised], axis = 1).sort_values('country_code', ascending=False)\n"
   ]
  },
  {
   "cell_type": "code",
   "execution_count": 42,
   "metadata": {},
   "outputs": [],
   "source": [
    "final['total_money_raised'] = final.total_money_raised/1000000\n",
    "final['% Companies that has raised money'] = final.has_raised/final.country_code*100"
   ]
  },
  {
   "cell_type": "code",
   "execution_count": 45,
   "metadata": {},
   "outputs": [],
   "source": [
    "final.rename(columns={'country_code':'Nº Companies',\n",
    "                     'total_money_raised': 'Average money raised'}, \n",
    "                 inplace=True)"
   ]
  },
  {
   "cell_type": "code",
   "execution_count": 46,
   "metadata": {},
   "outputs": [
    {
     "data": {
      "text/html": [
       "<div>\n",
       "<style scoped>\n",
       "    .dataframe tbody tr th:only-of-type {\n",
       "        vertical-align: middle;\n",
       "    }\n",
       "\n",
       "    .dataframe tbody tr th {\n",
       "        vertical-align: top;\n",
       "    }\n",
       "\n",
       "    .dataframe thead th {\n",
       "        text-align: right;\n",
       "    }\n",
       "</style>\n",
       "<table border=\"1\" class=\"dataframe\">\n",
       "  <thead>\n",
       "    <tr style=\"text-align: right;\">\n",
       "      <th></th>\n",
       "      <th>Nº Companies</th>\n",
       "      <th>age</th>\n",
       "      <th>has_raised</th>\n",
       "      <th>Average money raised</th>\n",
       "      <th>% Companies that has raised money</th>\n",
       "    </tr>\n",
       "    <tr>\n",
       "      <th>city</th>\n",
       "      <th></th>\n",
       "      <th></th>\n",
       "      <th></th>\n",
       "      <th></th>\n",
       "      <th></th>\n",
       "    </tr>\n",
       "  </thead>\n",
       "  <tbody>\n",
       "    <tr>\n",
       "      <th>San Francisco</th>\n",
       "      <td>771</td>\n",
       "      <td>15.623704</td>\n",
       "      <td>432</td>\n",
       "      <td>23.044086</td>\n",
       "      <td>56.031128</td>\n",
       "    </tr>\n",
       "    <tr>\n",
       "      <th>New York</th>\n",
       "      <td>763</td>\n",
       "      <td>18.801802</td>\n",
       "      <td>356</td>\n",
       "      <td>19.828440</td>\n",
       "      <td>46.657929</td>\n",
       "    </tr>\n",
       "    <tr>\n",
       "      <th>London</th>\n",
       "      <td>551</td>\n",
       "      <td>16.374732</td>\n",
       "      <td>197</td>\n",
       "      <td>10.724397</td>\n",
       "      <td>35.753176</td>\n",
       "    </tr>\n",
       "    <tr>\n",
       "      <th>Seattle</th>\n",
       "      <td>191</td>\n",
       "      <td>14.782353</td>\n",
       "      <td>106</td>\n",
       "      <td>23.503738</td>\n",
       "      <td>55.497382</td>\n",
       "    </tr>\n",
       "    <tr>\n",
       "      <th>Austin</th>\n",
       "      <td>179</td>\n",
       "      <td>16.427632</td>\n",
       "      <td>88</td>\n",
       "      <td>22.138296</td>\n",
       "      <td>49.162011</td>\n",
       "    </tr>\n",
       "    <tr>\n",
       "      <th>Chicago</th>\n",
       "      <td>178</td>\n",
       "      <td>17.753247</td>\n",
       "      <td>58</td>\n",
       "      <td>23.085169</td>\n",
       "      <td>32.584270</td>\n",
       "    </tr>\n",
       "    <tr>\n",
       "      <th>Palo Alto</th>\n",
       "      <td>177</td>\n",
       "      <td>15.337838</td>\n",
       "      <td>110</td>\n",
       "      <td>36.448023</td>\n",
       "      <td>62.146893</td>\n",
       "    </tr>\n",
       "    <tr>\n",
       "      <th>Los Angeles</th>\n",
       "      <td>175</td>\n",
       "      <td>19.000000</td>\n",
       "      <td>55</td>\n",
       "      <td>6.487571</td>\n",
       "      <td>31.428571</td>\n",
       "    </tr>\n",
       "    <tr>\n",
       "      <th>San Jose</th>\n",
       "      <td>170</td>\n",
       "      <td>18.302817</td>\n",
       "      <td>78</td>\n",
       "      <td>26.981941</td>\n",
       "      <td>45.882353</td>\n",
       "    </tr>\n",
       "    <tr>\n",
       "      <th>Sunnyvale</th>\n",
       "      <td>160</td>\n",
       "      <td>16.590551</td>\n",
       "      <td>97</td>\n",
       "      <td>21.464000</td>\n",
       "      <td>60.625000</td>\n",
       "    </tr>\n",
       "  </tbody>\n",
       "</table>\n",
       "</div>"
      ],
      "text/plain": [
       "               Nº Companies        age  has_raised  Average money raised  \\\n",
       "city                                                                       \n",
       "San Francisco           771  15.623704         432             23.044086   \n",
       "New York                763  18.801802         356             19.828440   \n",
       "London                  551  16.374732         197             10.724397   \n",
       "Seattle                 191  14.782353         106             23.503738   \n",
       "Austin                  179  16.427632          88             22.138296   \n",
       "Chicago                 178  17.753247          58             23.085169   \n",
       "Palo Alto               177  15.337838         110             36.448023   \n",
       "Los Angeles             175  19.000000          55              6.487571   \n",
       "San Jose                170  18.302817          78             26.981941   \n",
       "Sunnyvale               160  16.590551          97             21.464000   \n",
       "\n",
       "               % Companies that has raised money  \n",
       "city                                              \n",
       "San Francisco                          56.031128  \n",
       "New York                               46.657929  \n",
       "London                                 35.753176  \n",
       "Seattle                                55.497382  \n",
       "Austin                                 49.162011  \n",
       "Chicago                                32.584270  \n",
       "Palo Alto                              62.146893  \n",
       "Los Angeles                            31.428571  \n",
       "San Jose                               45.882353  \n",
       "Sunnyvale                              60.625000  "
      ]
     },
     "execution_count": 46,
     "metadata": {},
     "output_type": "execute_result"
    }
   ],
   "source": [
    "final[final.index!=''].head(10)"
   ]
  },
  {
   "cell_type": "markdown",
   "metadata": {},
   "source": [
    "## SELECTED CITY: AUSTIN\n",
    "\n",
    "I select Austin to set up my gaming company. \n",
    "Studying the resulting collection I see that there are 38 offices that do not have neither latitude nor longitude populated. \n",
    "I use Google API to reverse geocode these offices."
   ]
  },
  {
   "cell_type": "code",
   "execution_count": 102,
   "metadata": {},
   "outputs": [],
   "source": [
    "db, austin = mongodb.getCollection('austin','crunch')"
   ]
  },
  {
   "cell_type": "code",
   "execution_count": 97,
   "metadata": {},
   "outputs": [],
   "source": [
    "unlocated = list(austin.find({'offices.location':{'$exists':False}}))"
   ]
  },
  {
   "cell_type": "code",
   "execution_count": null,
   "metadata": {},
   "outputs": [],
   "source": [
    "key = os.getenv('GOOGLE_KEY')\n",
    "gmaps = googlemaps.Client(key=key)"
   ]
  },
  {
   "cell_type": "code",
   "execution_count": null,
   "metadata": {
    "scrolled": true
   },
   "outputs": [],
   "source": [
    "for co in unlocated:\n",
    "    address_1 = (co['offices']['address1'],co['offices']['address2'],co['offices']['zip_code'],co['offices']['city'])\n",
    "    address = ' '.join(address_1)\n",
    "    filtro = {'_id':ObjectId(co['_id'])}\n",
    "    field = 'offices.location'\n",
    "    geo_result = gmaps.geocode(address)\n",
    "    location = geo_result[0]['geometry']['location']\n",
    "    lat = location['lat']\n",
    "    lon = location['lng']\n",
    "    loc = {\n",
    "            'type':'Point',\n",
    "            'coordinates':[float(lon), float(lat)]\n",
    "            }\n",
    "    value = {'$set':{field:loc}}\n",
    "    austin.update_many(filtro, value)\n",
    "    value2 ={'$set':{'offices.latitude':lat}}\n",
    "    austin.update_many(filtro,value2)\n",
    "    value3 ={'$set':{'offices.longitude':lon}}\n",
    "    austin.update_many(filtro,value3)"
   ]
  },
  {
   "cell_type": "markdown",
   "metadata": {},
   "source": [
    "# Nearby places collection\n",
    "\n",
    "Next step is to create a new collection with all the different places/categories that I wan't my office to be close.\n",
    "I use Foursquare API in order to achieve this goal"
   ]
  },
  {
   "cell_type": "code",
   "execution_count": 104,
   "metadata": {},
   "outputs": [],
   "source": [
    "located = list(austin.find({}))"
   ]
  },
  {
   "cell_type": "code",
   "execution_count": 105,
   "metadata": {},
   "outputs": [
    {
     "data": {
      "text/plain": [
       "{'_id': ObjectId('52cdef7c4bab8bd675297e4a'),\n",
       " 'name': 'Indeed',\n",
       " 'founded_year': 2004,\n",
       " 'deadpooled_year': None,\n",
       " 'description': 'Job Search Portal',\n",
       " 'total_money_raised': '$5M',\n",
       " 'offices': {'description': 'Headquarters',\n",
       "  'address1': '7501 N. Capital of Texas Hwy',\n",
       "  'address2': 'Building B',\n",
       "  'zip_code': '78731',\n",
       "  'city': 'Austin',\n",
       "  'state_code': 'TX',\n",
       "  'country_code': 'USA',\n",
       "  'latitude': 30.3741311,\n",
       "  'longitude': -97.7808373,\n",
       "  'location': {'type': 'Point', 'coordinates': [-97.7808373, 30.3741311]}}}"
      ]
     },
     "execution_count": 105,
     "metadata": {},
     "output_type": "execute_result"
    }
   ],
   "source": [
    "located[0]"
   ]
  },
  {
   "cell_type": "code",
   "execution_count": null,
   "metadata": {},
   "outputs": [],
   "source": [
    "categoryId = '5744ccdfe4b0c0459246b4c7' #Guardería\n",
    "radius = '1000'\n",
    "category = 'Daycare'\n",
    "daycare = location.getNearbyPlacesCat(located, categoryId, category, radius)"
   ]
  },
  {
   "cell_type": "code",
   "execution_count": null,
   "metadata": {},
   "outputs": [],
   "source": [
    "categoryId = '4bf58dd8d48988d116941735,56aa371ce4b08b9a8d57356c,4bf58dd8d48988d117941735,4bf58dd8d48988d11e941735,4bf58dd8d48988d11b941735,50327c8591d4c4b30a586d5d,50327c8591d4c4b30a586d5d' #Bares\n",
    "radius = '1000'\n",
    "category = 'Bars'\n",
    "bars = location.getNearbyPlacesCat(located, categoryId, category, radius)"
   ]
  },
  {
   "cell_type": "code",
   "execution_count": null,
   "metadata": {},
   "outputs": [],
   "source": [
    "categoryId = '4bf58dd8d48988d1ed931735' #Aeropuerto\n",
    "category = 'Airports'\n",
    "radius = '20000'\n",
    "airports = location.getNearbyPlacesCat(located, categoryId, category, radius)"
   ]
  },
  {
   "cell_type": "code",
   "execution_count": null,
   "metadata": {
    "scrolled": false
   },
   "outputs": [],
   "source": [
    "categoryId = '4bf58dd8d48988d1d3941735' #Vegetariano\n",
    "category = 'Vegans'\n",
    "radius = '1000'\n",
    "vegans = location.getNearbyPlacesCat(located, categoryId, category, radius)"
   ]
  },
  {
   "cell_type": "code",
   "execution_count": null,
   "metadata": {},
   "outputs": [],
   "source": [
    "query = 'Starbucks'\n",
    "radius = '300'\n",
    "category = 'Starbucks'\n",
    "starbucks = location.getNearbyPlacesQuery(coll, query, category, radius)"
   ]
  },
  {
   "cell_type": "code",
   "execution_count": null,
   "metadata": {},
   "outputs": [],
   "source": [
    "total = vegans + airports + daycare + bars + starbucks"
   ]
  },
  {
   "cell_type": "code",
   "execution_count": null,
   "metadata": {},
   "outputs": [],
   "source": [
    "# Introducción del campo loc para aplicar geoindex en mongo\n",
    "for place in total:\n",
    "    place['loc'] = getLocationfor(place)"
   ]
  },
  {
   "cell_type": "code",
   "execution_count": null,
   "metadata": {},
   "outputs": [],
   "source": [
    "with open('./input/total.json', 'w') as file:\n",
    "     json.dump(total , file)"
   ]
  },
  {
   "cell_type": "markdown",
   "metadata": {},
   "source": [
    "# Geospacial queries"
   ]
  },
  {
   "cell_type": "code",
   "execution_count": 3,
   "metadata": {},
   "outputs": [
    {
     "data": {
      "text/plain": [
       "MongoClient(host=['localhost:27017'], document_class=dict, tz_aware=False, connect=True)"
      ]
     },
     "execution_count": 3,
     "metadata": {},
     "output_type": "execute_result"
    }
   ],
   "source": [
    "mongodb.getClient()"
   ]
  },
  {
   "cell_type": "code",
   "execution_count": 4,
   "metadata": {},
   "outputs": [],
   "source": [
    "db, places = mongodb.getCollection('total','crunch')\n",
    "db, austin = mongodb.getCollection('austin','crunch')"
   ]
  },
  {
   "cell_type": "code",
   "execution_count": 5,
   "metadata": {},
   "outputs": [],
   "source": [
    "offices = list(austin.find({}))\n",
    "nearby = list(places.find({}))"
   ]
  },
  {
   "cell_type": "code",
   "execution_count": 6,
   "metadata": {},
   "outputs": [],
   "source": [
    "cat_dict = {'Daycare':600, \n",
    "            'Airports':25000,\n",
    "            'Vegans': 1000, \n",
    "            'Starbucks':200,\n",
    "            'Bars': 400}\n",
    "ranking = []\n",
    "rank_in = {}\n",
    "for office in offices: \n",
    "    rank_in['_id'] = office['_id']\n",
    "    rank_in['name'] = office['name']\n",
    "    for cat in cat_dict:\n",
    "        a = list(places.find({'$and':[{'location':{'$near':{'$geometry':office['offices']['location'],'$maxDistance':cat_dict[cat]}}},{'category':cat}]}))\n",
    "        rank_in[cat] = len(a)\n",
    "    ranking.append(rank_in)\n",
    "    rank_in = {}\n",
    "rkg = pd.DataFrame(ranking)"
   ]
  },
  {
   "cell_type": "code",
   "execution_count": 7,
   "metadata": {},
   "outputs": [
    {
     "data": {
      "text/html": [
       "<div>\n",
       "<style scoped>\n",
       "    .dataframe tbody tr th:only-of-type {\n",
       "        vertical-align: middle;\n",
       "    }\n",
       "\n",
       "    .dataframe tbody tr th {\n",
       "        vertical-align: top;\n",
       "    }\n",
       "\n",
       "    .dataframe thead th {\n",
       "        text-align: right;\n",
       "    }\n",
       "</style>\n",
       "<table border=\"1\" class=\"dataframe\">\n",
       "  <thead>\n",
       "    <tr style=\"text-align: right;\">\n",
       "      <th></th>\n",
       "      <th>_id</th>\n",
       "      <th>name</th>\n",
       "      <th>Daycare</th>\n",
       "      <th>Airports</th>\n",
       "      <th>Vegans</th>\n",
       "      <th>Starbucks</th>\n",
       "      <th>Bars</th>\n",
       "    </tr>\n",
       "  </thead>\n",
       "  <tbody>\n",
       "    <tr>\n",
       "      <th>0</th>\n",
       "      <td>52cdef7c4bab8bd675297e4a</td>\n",
       "      <td>Indeed</td>\n",
       "      <td>0</td>\n",
       "      <td>1</td>\n",
       "      <td>0</td>\n",
       "      <td>0</td>\n",
       "      <td>0</td>\n",
       "    </tr>\n",
       "    <tr>\n",
       "      <th>1</th>\n",
       "      <td>52cdef7c4bab8bd675297e32</td>\n",
       "      <td>Vast</td>\n",
       "      <td>0</td>\n",
       "      <td>1</td>\n",
       "      <td>2</td>\n",
       "      <td>1</td>\n",
       "      <td>13</td>\n",
       "    </tr>\n",
       "    <tr>\n",
       "      <th>2</th>\n",
       "      <td>52cdef7c4bab8bd675297fed</td>\n",
       "      <td>Myxer</td>\n",
       "      <td>0</td>\n",
       "      <td>1</td>\n",
       "      <td>0</td>\n",
       "      <td>0</td>\n",
       "      <td>1</td>\n",
       "    </tr>\n",
       "    <tr>\n",
       "      <th>3</th>\n",
       "      <td>52cdef7c4bab8bd675297dae</td>\n",
       "      <td>Thoof</td>\n",
       "      <td>0</td>\n",
       "      <td>1</td>\n",
       "      <td>3</td>\n",
       "      <td>0</td>\n",
       "      <td>7</td>\n",
       "    </tr>\n",
       "    <tr>\n",
       "      <th>4</th>\n",
       "      <td>52cdef7c4bab8bd675297f69</td>\n",
       "      <td>Spiceworks</td>\n",
       "      <td>0</td>\n",
       "      <td>1</td>\n",
       "      <td>0</td>\n",
       "      <td>0</td>\n",
       "      <td>1</td>\n",
       "    </tr>\n",
       "  </tbody>\n",
       "</table>\n",
       "</div>"
      ],
      "text/plain": [
       "                        _id        name  Daycare  Airports  Vegans  Starbucks  \\\n",
       "0  52cdef7c4bab8bd675297e4a      Indeed        0         1       0          0   \n",
       "1  52cdef7c4bab8bd675297e32        Vast        0         1       2          1   \n",
       "2  52cdef7c4bab8bd675297fed       Myxer        0         1       0          0   \n",
       "3  52cdef7c4bab8bd675297dae       Thoof        0         1       3          0   \n",
       "4  52cdef7c4bab8bd675297f69  Spiceworks        0         1       0          0   \n",
       "\n",
       "   Bars  \n",
       "0     0  \n",
       "1    13  \n",
       "2     1  \n",
       "3     7  \n",
       "4     1  "
      ]
     },
     "execution_count": 7,
     "metadata": {},
     "output_type": "execute_result"
    }
   ],
   "source": [
    "rkg.head()"
   ]
  },
  {
   "cell_type": "code",
   "execution_count": 8,
   "metadata": {},
   "outputs": [],
   "source": [
    "rkg['selected']=rkg[['Daycare','Airports','Vegans','Starbucks', 'Bars']].apply(location.giveScore, axis = 1)"
   ]
  },
  {
   "cell_type": "markdown",
   "metadata": {},
   "source": [
    "## Potential locations to set up the company are the following"
   ]
  },
  {
   "cell_type": "code",
   "execution_count": 9,
   "metadata": {},
   "outputs": [
    {
     "data": {
      "text/html": [
       "<div>\n",
       "<style scoped>\n",
       "    .dataframe tbody tr th:only-of-type {\n",
       "        vertical-align: middle;\n",
       "    }\n",
       "\n",
       "    .dataframe tbody tr th {\n",
       "        vertical-align: top;\n",
       "    }\n",
       "\n",
       "    .dataframe thead th {\n",
       "        text-align: right;\n",
       "    }\n",
       "</style>\n",
       "<table border=\"1\" class=\"dataframe\">\n",
       "  <thead>\n",
       "    <tr style=\"text-align: right;\">\n",
       "      <th></th>\n",
       "      <th>_id</th>\n",
       "      <th>name</th>\n",
       "      <th>Daycare</th>\n",
       "      <th>Airports</th>\n",
       "      <th>Vegans</th>\n",
       "      <th>Starbucks</th>\n",
       "      <th>Bars</th>\n",
       "      <th>selected</th>\n",
       "    </tr>\n",
       "  </thead>\n",
       "  <tbody>\n",
       "    <tr>\n",
       "      <th>135</th>\n",
       "      <td>52cdef7e4bab8bd67529b37e</td>\n",
       "      <td>Powered</td>\n",
       "      <td>1</td>\n",
       "      <td>1</td>\n",
       "      <td>2</td>\n",
       "      <td>1</td>\n",
       "      <td>12</td>\n",
       "      <td>1</td>\n",
       "    </tr>\n",
       "    <tr>\n",
       "      <th>155</th>\n",
       "      <td>52cdef7e4bab8bd67529bad2</td>\n",
       "      <td>AllClear ID</td>\n",
       "      <td>1</td>\n",
       "      <td>1</td>\n",
       "      <td>2</td>\n",
       "      <td>1</td>\n",
       "      <td>6</td>\n",
       "      <td>1</td>\n",
       "    </tr>\n",
       "  </tbody>\n",
       "</table>\n",
       "</div>"
      ],
      "text/plain": [
       "                          _id         name  Daycare  Airports  Vegans  \\\n",
       "135  52cdef7e4bab8bd67529b37e      Powered        1         1       2   \n",
       "155  52cdef7e4bab8bd67529bad2  AllClear ID        1         1       2   \n",
       "\n",
       "     Starbucks  Bars  selected  \n",
       "135          1    12         1  \n",
       "155          1     6         1  "
      ]
     },
     "execution_count": 9,
     "metadata": {},
     "output_type": "execute_result"
    }
   ],
   "source": [
    "rkg[rkg['selected']==1]"
   ]
  },
  {
   "cell_type": "code",
   "execution_count": 19,
   "metadata": {},
   "outputs": [
    {
     "name": "stdout",
     "output_type": "stream",
     "text": [
      "52cdef7e4bab8bd67529b37e\n",
      "52cdef7e4bab8bd67529bad2\n"
     ]
    }
   ],
   "source": [
    "for i in rkg[rkg['selected']==1]['_id']:\n",
    "    print(i)"
   ]
  },
  {
   "cell_type": "code",
   "execution_count": 26,
   "metadata": {},
   "outputs": [
    {
     "data": {
      "text/plain": [
       "'Powered'"
      ]
     },
     "execution_count": 26,
     "metadata": {},
     "output_type": "execute_result"
    }
   ],
   "source": [
    "list(austin.find({'_id':ObjectId('52cdef7e4bab8bd67529b37e')}))[0]"
   ]
  },
  {
   "cell_type": "code",
   "execution_count": 28,
   "metadata": {},
   "outputs": [
    {
     "data": {
      "text/plain": [
       "{'_id': ObjectId('52cdef7e4bab8bd67529b37e'),\n",
       " 'name': 'Powered',\n",
       " 'founded_year': 1999,\n",
       " 'deadpooled_year': None,\n",
       " 'description': 'Leading Social Media Agency',\n",
       " 'total_money_raised': '$19.4M',\n",
       " 'offices': {'description': 'World Headquarters',\n",
       "  'address1': '206 E. Ninth Street',\n",
       "  'address2': '14th Floor',\n",
       "  'zip_code': '78701',\n",
       "  'city': 'Austin',\n",
       "  'state_code': 'TX',\n",
       "  'country_code': 'USA',\n",
       "  'latitude': 30.2705775,\n",
       "  'longitude': -97.7397293,\n",
       "  'location': {'type': 'Point', 'coordinates': [-97.7397293, 30.2705775]}}}"
      ]
     },
     "execution_count": 28,
     "metadata": {},
     "output_type": "execute_result"
    }
   ],
   "source": [
    "list(austin.find({'_id':ObjectId('52cdef7e4bab8bd67529b37e')}))[0]"
   ]
  },
  {
   "cell_type": "code",
   "execution_count": 98,
   "metadata": {},
   "outputs": [],
   "source": [
    "cat_dict = {'Daycare':600, \n",
    "            'Airports':25000,\n",
    "            'Vegans': 1000, \n",
    "            'Starbucks':200,\n",
    "            'Bars': 400}\n",
    "\n",
    "# map_city=folium.Map([30.266666, -97.733330], zoom_start = 100)\n",
    "map_city=folium.Map(list(austin.find({'_id':ObjectId(selected)}))[0]['offices']['location']['coordinates'][::-1], zoom_start = 300)\n",
    "\n",
    "for selected in rkg[rkg['selected']==1]['_id']:\n",
    "    tooltip = list(austin.find({'_id':ObjectId(selected)}))[0]['name']\n",
    "    folium.Marker(list(austin.find({'_id':ObjectId(selected)}))[0]['offices']['location']['coordinates'][::-1],\n",
    "                radius=2,\n",
    "                icon=folium.Icon(icon='home',color='black'), \n",
    "                tooltip = tooltip\n",
    "               ).add_to(map_city)\n",
    "    for cat in cat_dict:\n",
    "        places_list = list(places.find({'$and':[{'location':{'$near':{'$geometry':list(austin.find({'_id':ObjectId(selected)}))[0]['offices']['location'],'$maxDistance':cat_dict[cat]}}},{'category':cat}]}))\n",
    "        for place in places_list:\n",
    "            tooltip = place['name']\n",
    "            if place['category'] == 'Daycare':\n",
    "                folium.Marker(place['location']['coordinates'][::-1],\n",
    "                                    radius=2,\n",
    "                                    icon=folium.Icon(icon='cloud',color='pink'), \n",
    "                                    tooltip = tooltip\n",
    "                                       ).add_to(map_city)\n",
    "            if place['category'] == 'Airports':\n",
    "                folium.Marker(place['location']['coordinates'][::-1],\n",
    "                                    radius=2,\n",
    "                                    icon=folium.Icon(icon='plane',color='blue'), \n",
    "                                    tooltip = tooltip\n",
    "                                       ).add_to(map_city)\n",
    "            if place['category'] == 'Vegans':\n",
    "                folium.Marker(place['location']['coordinates'][::-1],\n",
    "                                    radius=2,\n",
    "                                    icon=folium.Icon(icon='leaf',color='green'), \n",
    "                                    tooltip = tooltip\n",
    "                                       ).add_to(map_city)\n",
    "            if place['category'] == 'Bars':\n",
    "                folium.Marker(place['location']['coordinates'][::-1],\n",
    "                                    radius=2,\n",
    "                                    icon=folium.Icon(icon='glass',color='purple'), \n",
    "                                    tooltip = tooltip\n",
    "                                       ).add_to(map_city)\n",
    "            if place['category'] == 'Starbucks':\n",
    "                folium.Marker(place['location']['coordinates'][::-1],\n",
    "                                    radius=2,\n",
    "                                    icon=folium.Icon(icon='cloud',color='beige'), \n",
    "                                    tooltip = tooltip\n",
    "                                       ).add_to(map_city)\n"
   ]
  },
  {
   "cell_type": "code",
   "execution_count": 99,
   "metadata": {},
   "outputs": [
    {
     "data": {
      "text/html": [
       "<div style=\"width:100%;\"><div style=\"position:relative;width:100%;height:0;padding-bottom:60%;\"><iframe src=\"data:text/html;charset=utf-8;base64,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\" style=\"position:absolute;width:100%;height:100%;left:0;top:0;border:none !important;\" allowfullscreen webkitallowfullscreen mozallowfullscreen></iframe></div></div>"
      ],
      "text/plain": [
       "<folium.folium.Map at 0x11d152940>"
      ]
     },
     "execution_count": 99,
     "metadata": {},
     "output_type": "execute_result"
    }
   ],
   "source": [
    "map_city"
   ]
  }
 ],
 "metadata": {
  "kernelspec": {
   "display_name": "Python 3",
   "language": "python",
   "name": "python3"
  },
  "language_info": {
   "codemirror_mode": {
    "name": "ipython",
    "version": 3
   },
   "file_extension": ".py",
   "mimetype": "text/x-python",
   "name": "python",
   "nbconvert_exporter": "python",
   "pygments_lexer": "ipython3",
   "version": "3.7.3"
  }
 },
 "nbformat": 4,
 "nbformat_minor": 2
}
